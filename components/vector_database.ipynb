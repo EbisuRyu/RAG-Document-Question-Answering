{
 "cells": [
  {
   "cell_type": "code",
   "execution_count": 1,
   "metadata": {},
   "outputs": [],
   "source": [
    "import chainlit as cl\n",
    "from chainlit.types import AskFileResponse\n",
    "from langchain_huggingface import HuggingFaceEmbeddings\n",
    "from langchain_community.document_loaders import PyPDFLoader, TextLoader\n",
    "from langchain_chroma import Chroma\n",
    "from langchain_text_splitters import RecursiveCharacterTextSplitter"
   ]
  },
  {
   "cell_type": "code",
   "execution_count": 14,
   "metadata": {},
   "outputs": [
    {
     "name": "stderr",
     "output_type": "stream",
     "text": [
      "c:\\Users\\LONG\\anaconda3\\envs\\rag-env\\Lib\\site-packages\\sentence_transformers\\cross_encoder\\CrossEncoder.py:11: TqdmWarning: IProgress not found. Please update jupyter and ipywidgets. See https://ipywidgets.readthedocs.io/en/stable/user_install.html\n",
      "  from tqdm.autonotebook import tqdm, trange\n"
     ]
    },
    {
     "name": "stdout",
     "output_type": "stream",
     "text": [
      "2024-07-07 11:25:15 - Use pytorch device_name: cpu\n",
      "2024-07-07 11:25:15 - Load pretrained SentenceTransformer: sentence-transformers/all-mpnet-base-v2\n"
     ]
    },
    {
     "name": "stderr",
     "output_type": "stream",
     "text": [
      "c:\\Users\\LONG\\anaconda3\\envs\\rag-env\\Lib\\site-packages\\huggingface_hub\\file_download.py:1132: FutureWarning: `resume_download` is deprecated and will be removed in version 1.0.0. Downloads always resume when possible. If you want to force a new download, use `force_download=True`.\n",
      "  warnings.warn(\n"
     ]
    }
   ],
   "source": [
    "class File:\n",
    "    def __init__(self, path, type):\n",
    "        self.path = path\n",
    "        self.type = type\n",
    "\n",
    "demo = File(path='./demo.pdf', type='application/pdf')\n",
    "text_splitter = RecursiveCharacterTextSplitter(chunk_size=1000, chunk_overlap=100)\n",
    "embedding = HuggingFaceEmbeddings()"
   ]
  },
  {
   "cell_type": "code",
   "execution_count": 9,
   "metadata": {},
   "outputs": [],
   "source": [
    "def process_file(file, text_splitter: RecursiveCharacterTextSplitter):\n",
    "    \"\"\"\n",
    "    Processes the uploaded file by splitting it into smaller documents.\n",
    "\n",
    "    Args:\n",
    "        file (AskFileResponse): The uploaded file.\n",
    "        text_splitter (RecursiveCharacterTextSplitter): The text splitter instance.\n",
    "\n",
    "    Returns:\n",
    "        List[Document]: A list of split documents with metadata.\n",
    "    \"\"\"\n",
    "    if file.type == 'text/plain':\n",
    "        loader = TextLoader(file.path)\n",
    "    elif file.type == 'application/pdf':\n",
    "        loader = PyPDFLoader(file.path)\n",
    "    else:\n",
    "        raise ValueError(f\"Unsupported file type: {file.type}\")\n",
    "\n",
    "    documents = loader.load()\n",
    "    docs = text_splitter.split_documents(documents)\n",
    "\n",
    "    for i, doc in enumerate(docs):\n",
    "        doc.metadata[\"source\"] = f\"source_{i}\"\n",
    "\n",
    "    return docs"
   ]
  },
  {
   "cell_type": "code",
   "execution_count": 24,
   "metadata": {},
   "outputs": [
    {
     "name": "stdout",
     "output_type": "stream",
     "text": [
      "Number of documents: 29\n",
      "First document: page_content='AI VIET NAM – AI COURSE 2024\n",
      "Kiểm tra tuân thủ đội mũ bảo vệ với YOLOv10\n",
      "Dinh-Thang Duong, Quang-Vinh Dinh\n",
      "Ngày 22 tháng 6 năm 2024\n",
      "I. Giới thiệu\n",
      "Object Detection (Tạm dịch: Phát hiện đối tượng) là một bài toán cổ điển thuộc lĩnh\n",
      "vực Computer Vision. Mục tiêu của bài toán này là tự động xác định vị trí của các đối tượng\n",
      "trong một tấm ảnh. Đây là một trong những bài toán quan trọng và phức tạp trong Computer\n",
      "Vision, với ứng dụng rộng rãi từ nhận diện khuôn mặt, nhận dạng biển số xe, đến theo dõi đối\n",
      "tượng trong video và tự động lái xe.\n",
      "Hình 1: Chương trình phát hiện đối tượng có mang mũ bảo hiểm.\n",
      "Trong project này, chúng ta sẽ xây dựng một chương trình phát hiện các nhân viên có đeo mũ\n",
      "bảo vệ trong công trường hay không? Mô hình mà chúng ta sử dụng sẽ là mô hình YOLOv10.\n",
      "Theo đó, Input và Output của chương trình là:\n",
      "•Input:Một tấm ảnh.\n",
      "•Output: Tọa độ (bounding box) của các nhân viên và phần mũ bảo hiểm.' metadata={'source': 'source_0', 'page': 0}\n"
     ]
    }
   ],
   "source": [
    "docs = process_file(demo, text_splitter)\n",
    "print(f\"Number of documents: {len(docs)}\")\n",
    "print(\"First document:\", docs[0])"
   ]
  },
  {
   "cell_type": "code",
   "execution_count": 26,
   "metadata": {},
   "outputs": [],
   "source": [
    "def get_vector_db(file, text_splitter, embedding):\n",
    "    \"\"\"\n",
    "    Creates a vector database from the processed file.\n",
    "\n",
    "    Args:\n",
    "        file (AskFileResponse): The uploaded file.\n",
    "\n",
    "    Returns:\n",
    "        Chroma: The vector database instance.\n",
    "    \"\"\"\n",
    "    docs = process_file(file, text_splitter)\n",
    "\n",
    "    vector_db = Chroma.from_documents(documents=docs, embedding=embedding)\n",
    "    return vector_db"
   ]
  },
  {
   "cell_type": "code",
   "execution_count": 27,
   "metadata": {},
   "outputs": [
    {
     "name": "stdout",
     "output_type": "stream",
     "text": [
      "2024-07-07 11:39:56 - Anonymized telemetry enabled. See                     https://docs.trychroma.com/telemetry for more information.\n",
      "<langchain_chroma.vectorstores.Chroma object at 0x000001B48013B710>\n"
     ]
    }
   ],
   "source": [
    "vector_db = get_vector_db(demo, text_splitter, embedding)\n",
    "print(vector_db)"
   ]
  }
 ],
 "metadata": {
  "kernelspec": {
   "display_name": "rag-env",
   "language": "python",
   "name": "python3"
  },
  "language_info": {
   "codemirror_mode": {
    "name": "ipython",
    "version": 3
   },
   "file_extension": ".py",
   "mimetype": "text/x-python",
   "name": "python",
   "nbconvert_exporter": "python",
   "pygments_lexer": "ipython3",
   "version": "3.12.4"
  }
 },
 "nbformat": 4,
 "nbformat_minor": 2
}
